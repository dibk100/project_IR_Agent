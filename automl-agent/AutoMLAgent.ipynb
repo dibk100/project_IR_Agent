{
 "cells": [
  {
   "cell_type": "code",
   "execution_count": 1,
   "metadata": {},
   "outputs": [
    {
     "ename": "TypeError",
     "evalue": "AgentManager.__init__() missing 1 required positional argument: 'task'",
     "output_type": "error",
     "traceback": [
      "\u001b[0;31m---------------------------------------------------------------------------\u001b[0m",
      "\u001b[0;31mTypeError\u001b[0m                                 Traceback (most recent call last)",
      "Cell \u001b[0;32mIn[1], line 9\u001b[0m\n\u001b[1;32m      3\u001b[0m data_path \u001b[38;5;241m=\u001b[39m \u001b[38;5;124m\"\u001b[39m\u001b[38;5;124m../datasets/banana_quality.csv\u001b[39m\u001b[38;5;124m\"\u001b[39m\n\u001b[1;32m      5\u001b[0m user_prompt \u001b[38;5;241m=\u001b[39m \u001b[38;5;124m\"\"\"\u001b[39m\n\u001b[1;32m      6\u001b[0m \u001b[38;5;124mBuild a model to classify banana quality as good or bad based on their numerical information (Size, Weight, Sweetness, Softness, HarvestTime, Ripeness, Acidity).\u001b[39m\n\u001b[1;32m      7\u001b[0m \u001b[38;5;124m\"\"\"\u001b[39m\n\u001b[0;32m----> 9\u001b[0m manager \u001b[38;5;241m=\u001b[39m \u001b[43mAgentManager\u001b[49m\u001b[43m(\u001b[49m\u001b[43mllm\u001b[49m\u001b[38;5;241;43m=\u001b[39;49m\u001b[38;5;124;43m'\u001b[39;49m\u001b[38;5;124;43mprompt-llm\u001b[39;49m\u001b[38;5;124;43m'\u001b[39;49m\u001b[43m,\u001b[49m\u001b[43m \u001b[49m\u001b[43minteractive\u001b[49m\u001b[38;5;241;43m=\u001b[39;49m\u001b[38;5;28;43;01mFalse\u001b[39;49;00m\u001b[43m,\u001b[49m\u001b[43m \u001b[49m\u001b[43mdata_path\u001b[49m\u001b[38;5;241;43m=\u001b[39;49m\u001b[43mdata_path\u001b[49m\u001b[43m,\u001b[49m\u001b[43m \u001b[49m\u001b[43mn_revise\u001b[49m\u001b[38;5;241;43m=\u001b[39;49m\u001b[38;5;241;43m3\u001b[39;49m\u001b[43m)\u001b[49m\n\u001b[1;32m     10\u001b[0m \u001b[38;5;66;03m# interactive=False → 자동으로 실행, 대화형 X\u001b[39;00m\n\u001b[1;32m     11\u001b[0m \u001b[38;5;66;03m# n_revise=3 AutoML-Agent가 결과를 최대 3번 수정하며 개선 시도\u001b[39;00m\n\u001b[1;32m     12\u001b[0m manager\u001b[38;5;241m.\u001b[39minitiate_chat(user_prompt)\n",
      "\u001b[0;31mTypeError\u001b[0m: AgentManager.__init__() missing 1 required positional argument: 'task'"
     ]
    }
   ],
   "source": [
    "from agent_manager import AgentManager\n",
    "\n",
    "data_path = \"../datasets/banana_quality.csv\"\n",
    "\n",
    "user_prompt = \"\"\"\n",
    "Build a model to classify banana quality as good or bad based on their numerical information (Size, Weight, Sweetness, Softness, HarvestTime, Ripeness, Acidity).\n",
    "\"\"\"\n",
    "\n",
    "manager = AgentManager(llm='prompt-llm', interactive=False, data_path=data_path, n_revise=3)\n",
    "# interactive=False → 자동으로 실행, 대화형 X\n",
    "# n_revise=3 AutoML-Agent가 결과를 최대 3번 수정하며 개선 시도\n",
    "manager.initiate_chat(user_prompt)\n",
    "# AutoML-Agent가 분류 모델을 설계, 학습, 평가까지 자동으로 진행"
   ]
  }
 ],
 "metadata": {
  "kernelspec": {
   "display_name": "amla",
   "language": "python",
   "name": "python3"
  },
  "language_info": {
   "codemirror_mode": {
    "name": "ipython",
    "version": 3
   },
   "file_extension": ".py",
   "mimetype": "text/x-python",
   "name": "python",
   "nbconvert_exporter": "python",
   "pygments_lexer": "ipython3",
   "version": "3.11.13"
  }
 },
 "nbformat": 4,
 "nbformat_minor": 2
}
