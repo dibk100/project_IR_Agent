{
 "cells": [
  {
   "cell_type": "code",
   "execution_count": null,
   "metadata": {},
   "outputs": [],
   "source": [
    "from agent_manager import AgentManager\n",
    "from glob import glob\n",
    "\n",
    "datasets = sorted(glob('agent_workspace/datasets/*'))\n",
    "data_path = glob(datasets[2] + '/*') # assuming the data is uploaded via web interface / API\n",
    "\n",
    "user_prompt = \"Build a text regression model to prediction 'OverallRating' for airline reviews dataset.\"\n",
    "manager = AgentManager(llm='gpt-4', interactive=False, data_path=data_path, n_revise=3)\n",
    "\n",
    "manager.initiate_chat(user_prompt)"
   ]
  }
 ],
 "metadata": {
  "kernelspec": {
   "display_name": "LLM4AutoML",
   "language": "python",
   "name": "python3"
  },
  "language_info": {
   "codemirror_mode": {
    "name": "ipython",
    "version": 3
   },
   "file_extension": ".py",
   "mimetype": "text/x-python",
   "name": "python",
   "nbconvert_exporter": "python",
   "pygments_lexer": "ipython3",
   "version": "3.11.10"
  }
 },
 "nbformat": 4,
 "nbformat_minor": 2
}
