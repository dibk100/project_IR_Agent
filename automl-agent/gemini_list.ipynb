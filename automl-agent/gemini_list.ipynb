{
 "cells": [
  {
   "cell_type": "markdown",
   "id": "86e0412f",
   "metadata": {},
   "source": [
    "# gemini 확인\n",
    "\n",
    "Step 1 (재현 로직 디버깅):\n",
    "gemini-2.5-flash-lite (빠르고 저렴 → 코드 안정화에 집중)\n",
    "\n",
    "Step 2 (논문 구조 제대로 테스트):\n",
    "gemini-2.5-flash (성능 + 속도 균형)\n",
    "\n",
    "Step 3 (최종 보고·비교):\n",
    "gemini-2.5-pro (최고 성능, 결과 품질 강조할 때)"
   ]
  },
  {
   "cell_type": "code",
   "execution_count": 1,
   "id": "c26f75c5",
   "metadata": {},
   "outputs": [
    {
     "name": "stdout",
     "output_type": "stream",
     "text": [
      "models/embedding-gecko-001 Embedding Gecko ['embedText', 'countTextTokens']\n",
      "models/gemini-2.5-pro-preview-03-25 Gemini 2.5 Pro Preview 03-25 ['generateContent', 'countTokens', 'createCachedContent', 'batchGenerateContent']\n",
      "models/gemini-2.5-flash-preview-05-20 Gemini 2.5 Flash Preview 05-20 ['generateContent', 'countTokens', 'createCachedContent', 'batchGenerateContent']\n",
      "models/gemini-2.5-flash Gemini 2.5 Flash ['generateContent', 'countTokens', 'createCachedContent', 'batchGenerateContent']\n",
      "models/gemini-2.5-flash-lite-preview-06-17 Gemini 2.5 Flash-Lite Preview 06-17 ['generateContent', 'countTokens', 'createCachedContent', 'batchGenerateContent']\n",
      "models/gemini-2.5-pro-preview-05-06 Gemini 2.5 Pro Preview 05-06 ['generateContent', 'countTokens', 'createCachedContent', 'batchGenerateContent']\n",
      "models/gemini-2.5-pro-preview-06-05 Gemini 2.5 Pro Preview ['generateContent', 'countTokens', 'createCachedContent', 'batchGenerateContent']\n",
      "models/gemini-2.5-pro Gemini 2.5 Pro ['generateContent', 'countTokens', 'createCachedContent', 'batchGenerateContent']\n",
      "models/gemini-2.0-flash-exp Gemini 2.0 Flash Experimental ['generateContent', 'countTokens', 'bidiGenerateContent']\n",
      "models/gemini-2.0-flash Gemini 2.0 Flash ['generateContent', 'countTokens', 'createCachedContent', 'batchGenerateContent']\n",
      "models/gemini-2.0-flash-001 Gemini 2.0 Flash 001 ['generateContent', 'countTokens', 'createCachedContent', 'batchGenerateContent']\n",
      "models/gemini-2.0-flash-exp-image-generation Gemini 2.0 Flash (Image Generation) Experimental ['generateContent', 'countTokens', 'bidiGenerateContent']\n",
      "models/gemini-2.0-flash-lite-001 Gemini 2.0 Flash-Lite 001 ['generateContent', 'countTokens', 'createCachedContent', 'batchGenerateContent']\n",
      "models/gemini-2.0-flash-lite Gemini 2.0 Flash-Lite ['generateContent', 'countTokens', 'createCachedContent', 'batchGenerateContent']\n",
      "models/gemini-2.0-flash-preview-image-generation Gemini 2.0 Flash Preview Image Generation ['generateContent', 'countTokens', 'batchGenerateContent']\n",
      "models/gemini-2.0-flash-lite-preview-02-05 Gemini 2.0 Flash-Lite Preview 02-05 ['generateContent', 'countTokens', 'createCachedContent', 'batchGenerateContent']\n",
      "models/gemini-2.0-flash-lite-preview Gemini 2.0 Flash-Lite Preview ['generateContent', 'countTokens', 'createCachedContent', 'batchGenerateContent']\n",
      "models/gemini-2.0-pro-exp Gemini 2.0 Pro Experimental ['generateContent', 'countTokens', 'createCachedContent', 'batchGenerateContent']\n",
      "models/gemini-2.0-pro-exp-02-05 Gemini 2.0 Pro Experimental 02-05 ['generateContent', 'countTokens', 'createCachedContent', 'batchGenerateContent']\n",
      "models/gemini-exp-1206 Gemini Experimental 1206 ['generateContent', 'countTokens', 'createCachedContent', 'batchGenerateContent']\n",
      "models/gemini-2.0-flash-thinking-exp-01-21 Gemini 2.5 Flash Preview 05-20 ['generateContent', 'countTokens', 'createCachedContent', 'batchGenerateContent']\n",
      "models/gemini-2.0-flash-thinking-exp Gemini 2.5 Flash Preview 05-20 ['generateContent', 'countTokens', 'createCachedContent', 'batchGenerateContent']\n",
      "models/gemini-2.0-flash-thinking-exp-1219 Gemini 2.5 Flash Preview 05-20 ['generateContent', 'countTokens', 'createCachedContent', 'batchGenerateContent']\n",
      "models/gemini-2.5-flash-preview-tts Gemini 2.5 Flash Preview TTS ['countTokens', 'generateContent']\n",
      "models/gemini-2.5-pro-preview-tts Gemini 2.5 Pro Preview TTS ['countTokens', 'generateContent']\n",
      "models/learnlm-2.0-flash-experimental LearnLM 2.0 Flash Experimental ['generateContent', 'countTokens']\n",
      "models/gemma-3-1b-it Gemma 3 1B ['generateContent', 'countTokens']\n",
      "models/gemma-3-4b-it Gemma 3 4B ['generateContent', 'countTokens']\n",
      "models/gemma-3-12b-it Gemma 3 12B ['generateContent', 'countTokens']\n",
      "models/gemma-3-27b-it Gemma 3 27B ['generateContent', 'countTokens']\n",
      "models/gemma-3n-e4b-it Gemma 3n E4B ['generateContent', 'countTokens']\n",
      "models/gemma-3n-e2b-it Gemma 3n E2B ['generateContent', 'countTokens']\n",
      "models/gemini-flash-latest Gemini Flash Latest ['generateContent', 'countTokens', 'createCachedContent', 'batchGenerateContent']\n",
      "models/gemini-flash-lite-latest Gemini Flash-Lite Latest ['generateContent', 'countTokens', 'createCachedContent', 'batchGenerateContent']\n",
      "models/gemini-pro-latest Gemini Pro Latest ['generateContent', 'countTokens', 'createCachedContent', 'batchGenerateContent']\n",
      "models/gemini-2.5-flash-lite Gemini 2.5 Flash-Lite ['generateContent', 'countTokens', 'createCachedContent', 'batchGenerateContent']\n",
      "models/gemini-2.5-flash-image-preview Nano Banana ['generateContent', 'countTokens']\n",
      "models/gemini-2.5-flash-preview-09-2025 Gemini 2.5 Flash Preview Sep 2025 ['generateContent', 'countTokens', 'createCachedContent', 'batchGenerateContent']\n",
      "models/gemini-2.5-flash-lite-preview-09-2025 Gemini 2.5 Flash-Lite Preview Sep 2025 ['generateContent', 'countTokens', 'createCachedContent', 'batchGenerateContent']\n",
      "models/gemini-robotics-er-1.5-preview Gemini Robotics-ER 1.5 Preview ['generateContent', 'countTokens']\n",
      "models/embedding-001 Embedding 001 ['embedContent']\n",
      "models/text-embedding-004 Text Embedding 004 ['embedContent']\n",
      "models/gemini-embedding-exp-03-07 Gemini Embedding Experimental 03-07 ['embedContent', 'countTextTokens', 'countTokens']\n",
      "models/gemini-embedding-exp Gemini Embedding Experimental ['embedContent', 'countTextTokens', 'countTokens']\n",
      "models/gemini-embedding-001 Gemini Embedding 001 ['embedContent', 'countTextTokens', 'countTokens', 'asyncBatchEmbedContent']\n",
      "models/aqa Model that performs Attributed Question Answering. ['generateAnswer']\n",
      "models/imagen-3.0-generate-002 Imagen 3.0 ['predict']\n",
      "models/imagen-4.0-generate-preview-06-06 Imagen 4 (Preview) ['predict']\n",
      "models/imagen-4.0-ultra-generate-preview-06-06 Imagen 4 Ultra (Preview) ['predict']\n",
      "models/imagen-4.0-generate-001 Imagen 4 ['predict']\n",
      "models/imagen-4.0-ultra-generate-001 Imagen 4 Ultra ['predict']\n",
      "models/imagen-4.0-fast-generate-001 Imagen 4 Fast ['predict']\n",
      "models/veo-2.0-generate-001 Veo 2 ['predictLongRunning']\n",
      "models/veo-3.0-generate-preview Veo 3 ['predictLongRunning']\n",
      "models/veo-3.0-fast-generate-preview Veo 3 fast ['predictLongRunning']\n",
      "models/veo-3.0-generate-001 Veo 3 ['predictLongRunning']\n",
      "models/veo-3.0-fast-generate-001 Veo 3 fast ['predictLongRunning']\n",
      "models/gemini-2.5-flash-preview-native-audio-dialog Gemini 2.5 Flash Preview Native Audio Dialog ['countTokens', 'bidiGenerateContent']\n",
      "models/gemini-2.5-flash-exp-native-audio-thinking-dialog Gemini 2.5 Flash Exp Native Audio Thinking Dialog ['countTokens', 'bidiGenerateContent']\n",
      "models/gemini-2.0-flash-live-001 Gemini 2.0 Flash 001 ['bidiGenerateContent', 'countTokens']\n",
      "models/gemini-live-2.5-flash-preview Gemini Live 2.5 Flash Preview ['bidiGenerateContent', 'countTokens']\n",
      "models/gemini-2.5-flash-live-preview Gemini 2.5 Flash Live Preview ['bidiGenerateContent', 'countTokens']\n",
      "models/gemini-2.5-flash-native-audio-latest Gemini 2.5 Flash Native Audio Latest ['countTokens', 'bidiGenerateContent']\n",
      "models/gemini-2.5-flash-native-audio-preview-09-2025 Gemini 2.5 Flash Native Audio Preview 09-2025 ['countTokens', 'bidiGenerateContent']\n"
     ]
    }
   ],
   "source": [
    "import google.generativeai as genai\n",
    "import os\n",
    "from dotenv import load_dotenv\n",
    "load_dotenv()\n",
    "\n",
    "g_token = os.getenv(\"GEMINI_API_KEY\")\n",
    "# API 키 설정\n",
    "genai.configure(api_key=g_token)\n",
    "\n",
    "# 모델 목록 나열\n",
    "models = genai.list_models()\n",
    "for m in models:\n",
    "    print(m.name, m.display_name, m.supported_generation_methods)\n"
   ]
  }
 ],
 "metadata": {
  "kernelspec": {
   "display_name": "amla",
   "language": "python",
   "name": "python3"
  },
  "language_info": {
   "codemirror_mode": {
    "name": "ipython",
    "version": 3
   },
   "file_extension": ".py",
   "mimetype": "text/x-python",
   "name": "python",
   "nbconvert_exporter": "python",
   "pygments_lexer": "ipython3",
   "version": "3.11.13"
  }
 },
 "nbformat": 4,
 "nbformat_minor": 5
}
