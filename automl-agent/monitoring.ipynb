{
 "cells": [
  {
   "cell_type": "code",
   "execution_count": 1,
   "id": "6dc211a1",
   "metadata": {},
   "outputs": [
    {
     "name": "stdout",
     "output_type": "stream",
     "text": [
      "CUDA 사용 가능: True\n",
      "GPU 개수: 1\n",
      "현재 GPU 이름: NVIDIA GeForce RTX 5090\n",
      "할당된 GPU 메모리: 0\n",
      "예약된 GPU 메모리: 0\n"
     ]
    }
   ],
   "source": [
    "import torch\n",
    "\n",
    "print(\"CUDA 사용 가능:\", torch.cuda.is_available())\n",
    "print(\"GPU 개수:\", torch.cuda.device_count())\n",
    "print(\"현재 GPU 이름:\", torch.cuda.get_device_name(0))\n",
    "print(\"할당된 GPU 메모리:\", torch.cuda.memory_allocated(0))\n",
    "print(\"예약된 GPU 메모리:\", torch.cuda.memory_reserved(0))\n"
   ]
  }
 ],
 "metadata": {
  "kernelspec": {
   "display_name": "amla",
   "language": "python",
   "name": "python3"
  },
  "language_info": {
   "codemirror_mode": {
    "name": "ipython",
    "version": 3
   },
   "file_extension": ".py",
   "mimetype": "text/x-python",
   "name": "python",
   "nbconvert_exporter": "python",
   "pygments_lexer": "ipython3",
   "version": "3.11.13"
  }
 },
 "nbformat": 4,
 "nbformat_minor": 5
}
