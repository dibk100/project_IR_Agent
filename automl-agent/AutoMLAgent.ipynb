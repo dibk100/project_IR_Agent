{
 "cells": [
  {
   "cell_type": "code",
   "execution_count": null,
   "metadata": {},
   "outputs": [],
   "source": [
    "from agent_manager import AgentManager\n",
    "\n",
    "data_path = \"automl-agent/datasets/banana_quality.csv\"\n",
    "\n",
    "user_prompt = \"\"\"\n",
    "Build a model to classify banana quality as good or bad based on their numerical information (Size, Weight, Sweetness, Softness, HarvestTime, Ripeness, Acidity).\n",
    "\"\"\"\n",
    "downstream = 'tabular_classification'\n",
    "manager = AgentManager(llm='prompt-llm', task= downstream,interactive=False, data_path=data_path, n_revise=3)\n",
    "# interactive=False → 자동으로 실행, 대화형 X\n",
    "# n_revise=3 AutoML-Agent가 결과를 최대 3번 수정하며 개선 시도\n",
    "\n",
    "manager.initiate_chat(user_prompt)\n",
    "# AutoML-Agent가 분류 모델을 설계, 학습, 평가까지 자동으로 진행"
   ]
  }
 ],
 "metadata": {
  "kernelspec": {
   "display_name": "amla",
   "language": "python",
   "name": "python3"
  },
  "language_info": {
   "codemirror_mode": {
    "name": "ipython",
    "version": 3
   },
   "file_extension": ".py",
   "mimetype": "text/x-python",
   "name": "python",
   "nbconvert_exporter": "python",
   "pygments_lexer": "ipython3",
   "version": "3.11.13"
  }
 },
 "nbformat": 4,
 "nbformat_minor": 2
}
